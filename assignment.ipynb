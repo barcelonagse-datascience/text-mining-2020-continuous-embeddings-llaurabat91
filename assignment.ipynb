{
 "cells": [
  {
   "cell_type": "markdown",
   "metadata": {},
   "source": [
    "# Assignment 3: Word2Vec\n",
    "\n",
    "In this assignment, we will see how we can use Word2Vec (or any similar word embedding) to use information from unlabelled data to help us classify better!\n",
    "\n",
    "You will be using the sentiment data from last week, either the yelps or movies, whichever you wish. \n",
    "\n",
    "Your goal will be to simulate the following situation: you have a **small** set of labelled data and a large set of unlabelled data. Show how the two follow 2 techniques compare as the amount of labelled data increases. You should train them on the small labelled subset and test their performance on the rest of the data. \n",
    "\n",
    "In other words, train on 1k, test on 99k. Then train on 2k, test on 98k. Then train on 4k, test on 96k. Etc.\n",
    "\n",
    "1. Logistic regression trained on labelled data, documents represented as term-frequency matrix of your choice. You can learn the vocabulary from the entire dataset or only the labelled data.\n",
    "\n",
    "2. Logistic regression trained on the labelled data, documents represented as word2vec vectors where you train word2vec using the entire dataset. Play around with different settings of word2vec (training window size, K-negative, skip-gram vs BOW, training windows, etc.). Note: we didn't go over the options in detail in class, so you will need to read about them a bit!\n",
    "\n",
    "You can read about the gensime word2vec implementation [here](https://radimrehurek.com/gensim/models/word2vec.html)."
   ]
  },
  {
   "cell_type": "code",
   "execution_count": 44,
   "metadata": {},
   "outputs": [],
   "source": [
    "#!pip install gensim"
   ]
  },
  {
   "cell_type": "code",
   "execution_count": 1,
   "metadata": {},
   "outputs": [],
   "source": [
    "import pandas as pd\n",
    "import numpy as np\n",
    "from gensim.models import Word2Vec\n",
    "from sklearn.linear_model import LogisticRegression\n",
    "from sklearn.feature_extraction.text import TfidfVectorizer\n",
    "from sklearn.metrics import accuracy_score\n",
    "from gensim import utils\n",
    "import matplotlib.ticker as mtick\n",
    "import pickle\n",
    "\n",
    "from re import sub\n",
    "from nltk.corpus import stopwords\n",
    "stop_words = stopwords.words('english')\n",
    "\n",
    "import matplotlib.pyplot as plt\n",
    "import seaborn as sns\n",
    "sns.set_context(\"notebook\")\n",
    "plt.style.use('bmh')\n",
    "%matplotlib inline"
   ]
  },
  {
   "cell_type": "code",
   "execution_count": 2,
   "metadata": {},
   "outputs": [],
   "source": [
    "import warnings\n",
    "warnings.filterwarnings('ignore')"
   ]
  },
  {
   "cell_type": "code",
   "execution_count": 3,
   "metadata": {},
   "outputs": [],
   "source": [
    "def train_test_split(data, train_share, seed=None):\n",
    "    data = data.copy().sample(frac=1, random_state=seed).reset_index(drop=True)\n",
    "    train_size = round(data.shape[0]*(train_share))\n",
    "    df_train = data[0:train_size]\n",
    "    df_test = data[train_size:]\n",
    "    return df_train, df_test"
   ]
  },
  {
   "cell_type": "code",
   "execution_count": 4,
   "metadata": {},
   "outputs": [],
   "source": [
    "def preprocess(docs,  w2v=None, stopwords=None, model=None, train_vectorizer=False, vectorizer=None):  \n",
    "    if w2v:\n",
    "        # vectorize documents with pre-trained w2v model\n",
    "        tokenized_docs = [utils.simple_preprocess(doc) for doc in docs]\n",
    "        tokenized_docs = [[w for w in t if w not in stopwords] \n",
    "                        for t in tokenized_docs]\n",
    "        \n",
    "        vectorized_w_docs = [[model.wv.__getitem__(w) for w in doc] for doc in tokenized_docs]\n",
    "        vectorized_docs = np.empty((0, 100))\n",
    "        for doc in vectorized_w_docs:\n",
    "            new_doc = np.sum(doc, axis=0)/np.linalg.norm(np.sum(doc, axis=0))\n",
    "            vectorized_docs = np.append(vectorized_docs, [new_doc], axis=0)\n",
    "\n",
    "        return vectorized_docs\n",
    "    \n",
    "    if train_vectorizer:\n",
    "        # train the vectorizer model\n",
    "        vectorizer = TfidfVectorizer(min_df=.03,\n",
    "                                     max_df=.97,\n",
    "                                     vocabulary=None,\n",
    "                                     stop_words='english',\n",
    "                                     norm=False)\n",
    "        \n",
    "        vectorizer = vectorizer.fit(docs)\n",
    "        V = vectorizer.transform(docs)\n",
    "        V = np.asarray(V.todense())\n",
    "        return V, vectorizer\n",
    "    \n",
    "    # vectorize documents with vectorizer model\n",
    "    V = vectorizer.transform(docs)\n",
    "    V = np.asarray(V.todense())\n",
    "    return V"
   ]
  },
  {
   "cell_type": "code",
   "execution_count": 5,
   "metadata": {},
   "outputs": [],
   "source": [
    "def get_train_test_sets(df_train, df_test, w2v=False, stopwords=None, model=None): \n",
    "    # process V\n",
    "    if w2v:\n",
    "        V_train = preprocess(df_train.text, w2v=w2v, stopwords=stopwords,  model=model)\n",
    "        V_test = preprocess(df_test.text, w2v=w2v, stopwords=stopwords,  model=model)\n",
    "        \n",
    "    else:\n",
    "        V_train, vectorizer = preprocess(df_train.text, train_vectorizer=True)\n",
    "        V_test = preprocess(df_test.text, train_vectorizer=False, vectorizer=vectorizer)\n",
    "     \n",
    "    # process y\n",
    "    y_train = df_train.positive\n",
    "    y_test = df_test.positive\n",
    "    return V_train, y_train, V_test, y_test"
   ]
  },
  {
   "cell_type": "code",
   "execution_count": 6,
   "metadata": {},
   "outputs": [],
   "source": [
    "def predict_acc(V_train, y_train, V_test, y_test):\n",
    "    # fit the model on train set and predict sentiment using the test documents\n",
    "    LR = LogisticRegression().fit(V_train, y_train)\n",
    "    y_hat = LR.predict(V_test)\n",
    "\n",
    "    # record accuracy\n",
    "    acc = accuracy_score(y_test, y_hat)\n",
    "    return acc"
   ]
  },
  {
   "cell_type": "markdown",
   "metadata": {},
   "source": [
    "### Training the w2v model"
   ]
  },
  {
   "cell_type": "code",
   "execution_count": 7,
   "metadata": {},
   "outputs": [],
   "source": [
    "# load data\n",
    "yelps = pd.read_csv('sentiment/yelps.csv',header=0)#.sample(frac=0.1, random_state=2).reset_index(drop=True)\n",
    "yelps = yelps[(yelps.text!='..') &(yelps.text!='...')&(yelps.text!=':(')].reset_index(drop=True)"
   ]
  },
  {
   "cell_type": "code",
   "execution_count": 9,
   "metadata": {},
   "outputs": [],
   "source": [
    "# tokenize documents\n",
    "tokenized_docs = [utils.simple_preprocess(doc) for doc in yelps.text]\n",
    "tokenized_docs = [[w for w in t if w not in stop_words] \n",
    "                        for t in tokenized_docs]"
   ]
  },
  {
   "cell_type": "code",
   "execution_count": 10,
   "metadata": {},
   "outputs": [],
   "source": [
    "# train model \n",
    "model = Word2Vec(sentences=tokenized_docs, size=100, min_count=1, sg=1, window=7)"
   ]
  },
  {
   "cell_type": "code",
   "execution_count": 11,
   "metadata": {},
   "outputs": [],
   "source": [
    "# pickle the model\n",
    "filename = 'w2v.sav'\n",
    "pickle.dump(model, open(filename, 'wb'))"
   ]
  },
  {
   "cell_type": "markdown",
   "metadata": {},
   "source": [
    "### Predicting sentiment with increasing train set size"
   ]
  },
  {
   "cell_type": "code",
   "execution_count": 12,
   "metadata": {},
   "outputs": [],
   "source": [
    "# load the model \n",
    "w2v_model = pickle.load(open(filename, 'rb'))"
   ]
  },
  {
   "cell_type": "code",
   "execution_count": 23,
   "metadata": {},
   "outputs": [],
   "source": [
    "train_shares = [0.01, 0.03, 0.05, 0.07, 0.09, 0.11, 0.13, 0.15, 0.17, 0.19]"
   ]
  },
  {
   "cell_type": "code",
   "execution_count": 25,
   "metadata": {
    "scrolled": true
   },
   "outputs": [],
   "source": [
    "# compute accuracies of models at predicting sentiment with different train size\n",
    "scores = {'vectorizer':[], 'word2vec':[]}\n",
    "\n",
    "for share in train_shares:\n",
    "    df_train, df_test = train_test_split(yelps, train_share=share, seed=None)\n",
    "    \n",
    "    #vectorizer\n",
    "    V_train, y_train, V_test, y_test = get_train_test_sets(df_train, df_test)\n",
    "    acc = predict_acc(V_train, y_train, V_test, y_test)\n",
    "    scores['vectorizer'].append(acc)\n",
    "    \n",
    "    # word2vec\n",
    "    V_train_w2v, y_train, V_test_w2v, y_test = get_train_test_sets(df_train, df_test, w2v=True, stopwords=stop_words, model=w2v_model)\n",
    "    acc = predict_acc(V_train_w2v, y_train, V_test_w2v, y_test)\n",
    "    scores['word2vec'].append(acc)"
   ]
  },
  {
   "cell_type": "code",
   "execution_count": 26,
   "metadata": {},
   "outputs": [
    {
     "data": {
      "text/html": [
       "<div>\n",
       "<style scoped>\n",
       "    .dataframe tbody tr th:only-of-type {\n",
       "        vertical-align: middle;\n",
       "    }\n",
       "\n",
       "    .dataframe tbody tr th {\n",
       "        vertical-align: top;\n",
       "    }\n",
       "\n",
       "    .dataframe thead th {\n",
       "        text-align: right;\n",
       "    }\n",
       "</style>\n",
       "<table border=\"1\" class=\"dataframe\">\n",
       "  <thead>\n",
       "    <tr style=\"text-align: right;\">\n",
       "      <th></th>\n",
       "      <th>train_share</th>\n",
       "      <th>vectorizer</th>\n",
       "      <th>word2vec</th>\n",
       "    </tr>\n",
       "  </thead>\n",
       "  <tbody>\n",
       "    <tr>\n",
       "      <td>0</td>\n",
       "      <td>0.01</td>\n",
       "      <td>0.857655</td>\n",
       "      <td>0.919625</td>\n",
       "    </tr>\n",
       "    <tr>\n",
       "      <td>1</td>\n",
       "      <td>0.03</td>\n",
       "      <td>0.882226</td>\n",
       "      <td>0.936793</td>\n",
       "    </tr>\n",
       "    <tr>\n",
       "      <td>2</td>\n",
       "      <td>0.05</td>\n",
       "      <td>0.893494</td>\n",
       "      <td>0.940515</td>\n",
       "    </tr>\n",
       "    <tr>\n",
       "      <td>3</td>\n",
       "      <td>0.07</td>\n",
       "      <td>0.895063</td>\n",
       "      <td>0.941279</td>\n",
       "    </tr>\n",
       "    <tr>\n",
       "      <td>4</td>\n",
       "      <td>0.09</td>\n",
       "      <td>0.900241</td>\n",
       "      <td>0.944450</td>\n",
       "    </tr>\n",
       "    <tr>\n",
       "      <td>5</td>\n",
       "      <td>0.11</td>\n",
       "      <td>0.901122</td>\n",
       "      <td>0.945359</td>\n",
       "    </tr>\n",
       "    <tr>\n",
       "      <td>6</td>\n",
       "      <td>0.13</td>\n",
       "      <td>0.902654</td>\n",
       "      <td>0.947137</td>\n",
       "    </tr>\n",
       "    <tr>\n",
       "      <td>7</td>\n",
       "      <td>0.15</td>\n",
       "      <td>0.902999</td>\n",
       "      <td>0.946799</td>\n",
       "    </tr>\n",
       "    <tr>\n",
       "      <td>8</td>\n",
       "      <td>0.17</td>\n",
       "      <td>0.905601</td>\n",
       "      <td>0.947783</td>\n",
       "    </tr>\n",
       "    <tr>\n",
       "      <td>9</td>\n",
       "      <td>0.19</td>\n",
       "      <td>0.905641</td>\n",
       "      <td>0.948481</td>\n",
       "    </tr>\n",
       "  </tbody>\n",
       "</table>\n",
       "</div>"
      ],
      "text/plain": [
       "   train_share  vectorizer  word2vec\n",
       "0         0.01    0.857655  0.919625\n",
       "1         0.03    0.882226  0.936793\n",
       "2         0.05    0.893494  0.940515\n",
       "3         0.07    0.895063  0.941279\n",
       "4         0.09    0.900241  0.944450\n",
       "5         0.11    0.901122  0.945359\n",
       "6         0.13    0.902654  0.947137\n",
       "7         0.15    0.902999  0.946799\n",
       "8         0.17    0.905601  0.947783\n",
       "9         0.19    0.905641  0.948481"
      ]
     },
     "execution_count": 26,
     "metadata": {},
     "output_type": "execute_result"
    }
   ],
   "source": [
    "results = pd.concat([pd.Series(train_shares, name='train_share'),pd.DataFrame.from_dict(scores)], axis=1)\n",
    "results"
   ]
  },
  {
   "cell_type": "code",
   "execution_count": 27,
   "metadata": {},
   "outputs": [
    {
     "data": {
      "image/png": "[encoded data removed]",
      "text/plain": [
       "<Figure size 720x576 with 1 Axes>"
      ]
     },
     "metadata": {
      "needs_background": "light"
     },
     "output_type": "display_data"
    }
   ],
   "source": [
    "fig, ax = plt.subplots(figsize = (10,8))\n",
    "ax.set_title('Accuracy scores as size of train set increases', fontsize=15)\n",
    "labels = ['Vectorizer','W2V']\n",
    "\n",
    "ax.plot(results['train_share'],results['vectorizer'])\n",
    "ax.plot(results['train_share'],results['word2vec'])\n",
    "ax.set_ylabel('accuracy', fontsize=14)\n",
    "ax.set_xlabel('% size of train set', fontsize=14)\n",
    "ax.xaxis.set_major_locator(plt.MaxNLocator(5))\n",
    "ax.yaxis.set_major_formatter(mtick.PercentFormatter(1, decimals=0))\n",
    "ax.xaxis.set_major_formatter(mtick.PercentFormatter(1, decimals=0))\n",
    "\n",
    "plt.tight_layout()\n",
    "fig.legend(labels, loc='lower left', fontsize='x-large', ncol=3, bbox_to_anchor=(0.08, -0.015, 0.8, 1))\n",
    "plt.show()"
   ]
  },
  {
   "cell_type": "markdown",
   "metadata": {},
   "source": [
    "Here we see basically two things:\n",
    "+ Performance of both models increases with the size of the train set, even if at a decreasing rate\n",
    "+ W2V outperforms the vectorizer for any train set size\n",
    "\n",
    "With more time, I would have liked to optimize some hyperparameters of the W2V e.g. cross-validating and comparing accuracies, but it takes a lot of time. Indeed, in my small experiments I saw that results were changing quite a bit especially depending on window size and training algorithm (at least at a quick check, it seemed SG performed better that CBOW)."
   ]
  }
 ],
 "metadata": {
  "kernelspec": {
   "display_name": "Python 3",
   "language": "python",
   "name": "python3"
  },
  "language_info": {
   "codemirror_mode": {
    "name": "ipython",
    "version": 3
   },
   "file_extension": ".py",
   "mimetype": "text/x-python",
   "name": "python",
   "nbconvert_exporter": "python",
   "pygments_lexer": "ipython3",
   "version": "3.7.5"
  },
  "name": "assignment.ipynb",
  "toc": {
   "base_numbering": 1,
   "nav_menu": {},
   "number_sections": false,
   "sideBar": true,
   "skip_h1_title": false,
   "title_cell": "Table of Contents",
   "title_sidebar": "Contents",
   "toc_cell": false,
   "toc_position": {},
   "toc_section_display": true,
   "toc_window_display": false
  }
 },
 "nbformat": 4,
 "nbformat_minor": 2
}
